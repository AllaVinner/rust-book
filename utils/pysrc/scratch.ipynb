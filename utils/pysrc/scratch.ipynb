{
 "cells": [
  {
   "cell_type": "code",
   "execution_count": 1,
   "metadata": {},
   "outputs": [],
   "source": [
    "import numpy as np"
   ]
  },
  {
   "cell_type": "code",
   "execution_count": 5,
   "metadata": {},
   "outputs": [],
   "source": [
    "\n",
    "def julia_fractal(c_re, c_im, re_min=-3, re_max=3, im_min=-3, im_max=3, image_width=800, image_height=800):\n",
    "    rang_re = re_max-re_min\n",
    "    rang_im = im_max-im_min\n",
    "\n",
    "    scale_re = rang_re/image_width\n",
    "    scale_im = rang_im/image_height\n",
    "\n",
    "    image = np.zeros((image_width, image_height, 3), dtype=int)\n",
    "\n",
    "    for pixel_w in range(image_width):\n",
    "        for pixel_h in range(image_height):\n",
    "            re = pixel_w * scale_re - rang_re/2\n",
    "            im = -(pixel_h * scale_im - rang_im/2)\n",
    "\n",
    "            i = 0\n",
    "            factor = 20\n",
    "            while (i<255/factor and re**2+im**2<=4):\n",
    "                re = re**2-im**2 + c_re\n",
    "                im = 2*re*im + c_im\n",
    "                i += 1\n",
    "            \n",
    "            image[pixel_w, pixel_h, :] = np.array([0, int(i*factor), 0])\n",
    "\n",
    "    return image\n",
    "\n"
   ]
  },
  {
   "cell_type": "code",
   "execution_count": 7,
   "metadata": {},
   "outputs": [
    {
     "data": {
      "text/plain": [
       "14713760"
      ]
     },
     "execution_count": 7,
     "metadata": {},
     "output_type": "execute_result"
    }
   ],
   "source": [
    "\n",
    "np.sum(julia_fractal(-1.1, 0.4))"
   ]
  },
  {
   "cell_type": "code",
   "execution_count": null,
   "metadata": {},
   "outputs": [],
   "source": []
  }
 ],
 "metadata": {
  "kernelspec": {
   "display_name": "jenv",
   "language": "python",
   "name": "python3"
  },
  "language_info": {
   "codemirror_mode": {
    "name": "ipython",
    "version": 3
   },
   "file_extension": ".py",
   "mimetype": "text/x-python",
   "name": "python",
   "nbconvert_exporter": "python",
   "pygments_lexer": "ipython3",
   "version": "3.9.15"
  },
  "orig_nbformat": 4,
  "vscode": {
   "interpreter": {
    "hash": "a6df720517243887f81f829574e18eed6582ce87175ffd531d5fa99bc43729cc"
   }
  }
 },
 "nbformat": 4,
 "nbformat_minor": 2
}
